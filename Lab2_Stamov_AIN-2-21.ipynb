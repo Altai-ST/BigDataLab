{
 "cells": [
  {
   "cell_type": "code",
   "execution_count": 967,
   "metadata": {},
   "outputs": [],
   "source": [
    "import numpy as np"
   ]
  },
  {
   "cell_type": "markdown",
   "metadata": {},
   "source": [
    "<h4>1.1.\tСоздайте одномерный массив my_array, в котором по порядку все числа до 100, кратные 5</h4>"
   ]
  },
  {
   "cell_type": "code",
   "execution_count": 968,
   "metadata": {},
   "outputs": [
    {
     "name": "stdout",
     "output_type": "stream",
     "text": [
      "my_array: [  5  10  15  20  25  30  35  40  45  50  55  60  65  70  75  80  85  90\n",
      "  95 100]\n"
     ]
    }
   ],
   "source": [
    "my_array = np.arange(5, 101, 5)\n",
    "print(\"my_array:\", my_array)"
   ]
  },
  {
   "cell_type": "markdown",
   "metadata": {},
   "source": [
    "<h4>2.1.\tИз полученного массива получить массив с кратными 10 числами</h4>"
   ]
  },
  {
   "cell_type": "code",
   "execution_count": 969,
   "metadata": {},
   "outputs": [
    {
     "name": "stdout",
     "output_type": "stream",
     "text": [
      "my_array_2: [ 10  20  30  40  50  60  70  80  90 100]\n"
     ]
    }
   ],
   "source": [
    "my_array_2 = my_array[my_array % 10 == 0]\n",
    "print(\"my_array_2:\", my_array_2)"
   ]
  },
  {
   "cell_type": "markdown",
   "metadata": {},
   "source": [
    "<h4>3.1.\tПолучить двумерный массив с двумя столбцами</h4>"
   ]
  },
  {
   "cell_type": "code",
   "execution_count": 970,
   "metadata": {},
   "outputs": [
    {
     "name": "stdout",
     "output_type": "stream",
     "text": [
      "my_array_3:\n",
      " [[1 2]\n",
      " [3 4]\n",
      " [5 6]]\n"
     ]
    }
   ],
   "source": [
    "my_array_3 = np.array([[1,2],[3,4],[5,6]])\n",
    "print(\"my_array_3:\\n\", my_array_3)"
   ]
  },
  {
   "cell_type": "markdown",
   "metadata": {},
   "source": [
    "<h4>4.1.\tПолучите набор my_second_array, в котором все элементы меньше предыдущего исходного на 5</h4>"
   ]
  },
  {
   "cell_type": "code",
   "execution_count": 971,
   "metadata": {},
   "outputs": [
    {
     "name": "stdout",
     "output_type": "stream",
     "text": [
      "my_second_array:\n",
      " [[-4 -3]\n",
      " [-2 -1]\n",
      " [ 0  1]]\n"
     ]
    }
   ],
   "source": [
    "my_second_array = my_array_3 - 5\n",
    "print(\"my_second_array:\\n\", my_second_array)"
   ]
  },
  {
   "cell_type": "markdown",
   "metadata": {},
   "source": [
    "<h4>5.1.\tСоедините массивы, полученные в п. 3.1 и 4.1, горизонтально. Используйте .T для транспонирования матрицы.</h4>"
   ]
  },
  {
   "cell_type": "code",
   "execution_count": 972,
   "metadata": {},
   "outputs": [
    {
     "name": "stdout",
     "output_type": "stream",
     "text": [
      "my_combined_array:\n",
      " [[ 1  3  5]\n",
      " [ 2  4  6]\n",
      " [-4 -2  0]\n",
      " [-3 -1  1]]\n"
     ]
    }
   ],
   "source": [
    "my_combined_array = np.concatenate((my_array_3, my_second_array), axis=1)\n",
    "print(\"my_combined_array:\\n\", my_combined_array.T)"
   ]
  },
  {
   "cell_type": "markdown",
   "metadata": {},
   "source": [
    "<h4>6.1.\tРазделите 2 и 3 строку на 4 верхних строки my_array. Используйте .T для транспонирования матрицы</h4>"
   ]
  },
  {
   "cell_type": "code",
   "execution_count": 973,
   "metadata": {},
   "outputs": [
    {
     "data": {
      "text/plain": [
       "''"
      ]
     },
     "execution_count": 973,
     "metadata": {},
     "output_type": "execute_result"
    }
   ],
   "source": [
    "\n",
    "\"\""
   ]
  },
  {
   "cell_type": "markdown",
   "metadata": {},
   "source": [
    "<h4>7.1.\tОставить только те значения, которые не изменились после деления</h4>"
   ]
  },
  {
   "cell_type": "code",
   "execution_count": null,
   "metadata": {},
   "outputs": [],
   "source": []
  },
  {
   "cell_type": "markdown",
   "metadata": {},
   "source": [
    "<h4>8.1.\tСнова получить трехстрочный двумерный массив и поменять местами первую и третью строки</h4>"
   ]
  },
  {
   "cell_type": "code",
   "execution_count": 974,
   "metadata": {},
   "outputs": [
    {
     "name": "stdout",
     "output_type": "stream",
     "text": [
      "my_array_4:\n",
      " [[54, 88, 31], [65, 35, 99], [21, 43, 43]]\n"
     ]
    }
   ],
   "source": [
    "my_array_4 =[\n",
    "    [21,43,43],\n",
    "    [65,35,99],\n",
    "    [54,88,31]\n",
    "]\n",
    "\n",
    "my_array_4 = my_array_4[::-1]\n",
    "print(\"my_array_4:\\n\", my_array_4)"
   ]
  },
  {
   "cell_type": "markdown",
   "metadata": {},
   "source": [
    "<h4>9.1.\tПолучить среднее, медиану и стандартное отклонение для каждой строки, используя команды np.mean(), np.median(), np.std().</h4>"
   ]
  },
  {
   "cell_type": "code",
   "execution_count": 975,
   "metadata": {},
   "outputs": [
    {
     "name": "stdout",
     "output_type": "stream",
     "text": [
      "9.1. Means: [57.66666667 66.33333333 35.66666667]\n",
      "    Medians: [54. 65. 43.]\n",
      "    Standard Deviations: [23.41414577 26.1448954  10.37089946]\n"
     ]
    }
   ],
   "source": [
    "means = np.mean(my_array_4, axis=1)\n",
    "medians = np.median(my_array_4, axis=1)\n",
    "std_devs = np.std(my_array_4, axis=1)\n",
    "print(\"9.1. Means:\", means)\n",
    "print(\"    Medians:\", medians)\n",
    "print(\"    Standard Deviations:\", std_devs)"
   ]
  },
  {
   "cell_type": "markdown",
   "metadata": {},
   "source": [
    "<h4>10.1.\tСделать нормализацию на максимальное значение вдоль строк, поделив каждый элемент массива на max() вдоль строк</h4>"
   ]
  },
  {
   "cell_type": "code",
   "execution_count": 976,
   "metadata": {},
   "outputs": [
    {
     "name": "stdout",
     "output_type": "stream",
     "text": [
      "10.1. normalized_array:\n",
      " [[0.61363636 1.         0.35227273]\n",
      " [0.65656566 0.35353535 1.        ]\n",
      " [0.48837209 1.         1.        ]]\n"
     ]
    }
   ],
   "source": [
    "normalized_array = my_array_4 / np.max(my_array_4,axis=1, keepdims=True)\n",
    "print(\"10.1. normalized_array:\\n\", normalized_array)"
   ]
  },
  {
   "cell_type": "markdown",
   "metadata": {},
   "source": [
    "<h4>2.1.\tИмпортируйте данные из файла “Global Population Trends(2016-2022).csv”. Описание данных смотрите ниже.\n",
    "Изучите полученные данные:</h4>"
   ]
  },
  {
   "cell_type": "markdown",
   "metadata": {},
   "source": [
    "<h4>"
   ]
  },
  {
   "cell_type": "code",
   "execution_count": 977,
   "metadata": {},
   "outputs": [
    {
     "data": {
      "text/html": [
       "<div>\n",
       "<style scoped>\n",
       "    .dataframe tbody tr th:only-of-type {\n",
       "        vertical-align: middle;\n",
       "    }\n",
       "\n",
       "    .dataframe tbody tr th {\n",
       "        vertical-align: top;\n",
       "    }\n",
       "\n",
       "    .dataframe thead th {\n",
       "        text-align: right;\n",
       "    }\n",
       "</style>\n",
       "<table border=\"1\" class=\"dataframe\">\n",
       "  <thead>\n",
       "    <tr style=\"text-align: right;\">\n",
       "      <th></th>\n",
       "      <th>Country</th>\n",
       "      <th>Year</th>\n",
       "      <th>Total Population</th>\n",
       "      <th>Urban Population</th>\n",
       "      <th>Rural Population</th>\n",
       "      <th>Population Density</th>\n",
       "      <th>Life Expectancy</th>\n",
       "      <th>Birth Rate</th>\n",
       "      <th>Death Rate</th>\n",
       "      <th>Fertility Rate</th>\n",
       "      <th>Infant Mortality Rate</th>\n",
       "      <th>Growth Rate</th>\n",
       "    </tr>\n",
       "  </thead>\n",
       "  <tbody>\n",
       "    <tr>\n",
       "      <th>0</th>\n",
       "      <td>Afghanistan</td>\n",
       "      <td>2017</td>\n",
       "      <td>-</td>\n",
       "      <td>-</td>\n",
       "      <td>-</td>\n",
       "      <td>55</td>\n",
       "      <td>63.0</td>\n",
       "      <td>37.342</td>\n",
       "      <td>7.027</td>\n",
       "      <td>5.129</td>\n",
       "      <td>49.4</td>\n",
       "      <td>-</td>\n",
       "    </tr>\n",
       "    <tr>\n",
       "      <th>1</th>\n",
       "      <td>Afghanistan</td>\n",
       "      <td>2018</td>\n",
       "      <td>36,686,784</td>\n",
       "      <td>9,353,296</td>\n",
       "      <td>27,333,488</td>\n",
       "      <td>56</td>\n",
       "      <td>63.0</td>\n",
       "      <td>36.927</td>\n",
       "      <td>6.981</td>\n",
       "      <td>5.002</td>\n",
       "      <td>47.8</td>\n",
       "      <td>3.0</td>\n",
       "    </tr>\n",
       "    <tr>\n",
       "      <th>2</th>\n",
       "      <td>Afghanistan</td>\n",
       "      <td>2019</td>\n",
       "      <td>37,769,499</td>\n",
       "      <td>9,727,157</td>\n",
       "      <td>28,042,342</td>\n",
       "      <td>58</td>\n",
       "      <td>64.0</td>\n",
       "      <td>36.466</td>\n",
       "      <td>6.791</td>\n",
       "      <td>4.87</td>\n",
       "      <td>46.3</td>\n",
       "      <td>3.0</td>\n",
       "    </tr>\n",
       "    <tr>\n",
       "      <th>3</th>\n",
       "      <td>Afghanistan</td>\n",
       "      <td>2020</td>\n",
       "      <td>38,972,230</td>\n",
       "      <td>10,142,913</td>\n",
       "      <td>28,829,317</td>\n",
       "      <td>60</td>\n",
       "      <td>63.0</td>\n",
       "      <td>36.051</td>\n",
       "      <td>7.113</td>\n",
       "      <td>4.75</td>\n",
       "      <td>44.8</td>\n",
       "      <td>3.0</td>\n",
       "    </tr>\n",
       "    <tr>\n",
       "      <th>4</th>\n",
       "      <td>Afghanistan</td>\n",
       "      <td>2021</td>\n",
       "      <td>40,099,462</td>\n",
       "      <td>10,551,772</td>\n",
       "      <td>29,547,690</td>\n",
       "      <td>-</td>\n",
       "      <td>62.0</td>\n",
       "      <td>35.842</td>\n",
       "      <td>7.344</td>\n",
       "      <td>4.643</td>\n",
       "      <td>43.4</td>\n",
       "      <td>3.0</td>\n",
       "    </tr>\n",
       "    <tr>\n",
       "      <th>...</th>\n",
       "      <td>...</td>\n",
       "      <td>...</td>\n",
       "      <td>...</td>\n",
       "      <td>...</td>\n",
       "      <td>...</td>\n",
       "      <td>...</td>\n",
       "      <td>...</td>\n",
       "      <td>...</td>\n",
       "      <td>...</td>\n",
       "      <td>...</td>\n",
       "      <td>...</td>\n",
       "      <td>...</td>\n",
       "    </tr>\n",
       "    <tr>\n",
       "      <th>1068</th>\n",
       "      <td>Zimbabwe</td>\n",
       "      <td>2017</td>\n",
       "      <td>-</td>\n",
       "      <td>-</td>\n",
       "      <td>-</td>\n",
       "      <td>38</td>\n",
       "      <td>61.0</td>\n",
       "      <td>32.516</td>\n",
       "      <td>8.266</td>\n",
       "      <td>3.706</td>\n",
       "      <td>39.5</td>\n",
       "      <td>-</td>\n",
       "    </tr>\n",
       "    <tr>\n",
       "      <th>1069</th>\n",
       "      <td>Zimbabwe</td>\n",
       "      <td>2018</td>\n",
       "      <td>15,052,184</td>\n",
       "      <td>4,848,158</td>\n",
       "      <td>10,204,026</td>\n",
       "      <td>39</td>\n",
       "      <td>61.0</td>\n",
       "      <td>32.074</td>\n",
       "      <td>7.972</td>\n",
       "      <td>3.659</td>\n",
       "      <td>38.0</td>\n",
       "      <td>2.0</td>\n",
       "    </tr>\n",
       "    <tr>\n",
       "      <th>1070</th>\n",
       "      <td>Zimbabwe</td>\n",
       "      <td>2019</td>\n",
       "      <td>15,354,608</td>\n",
       "      <td>4,945,719</td>\n",
       "      <td>10,408,889</td>\n",
       "      <td>40</td>\n",
       "      <td>61.0</td>\n",
       "      <td>31.518</td>\n",
       "      <td>8.043</td>\n",
       "      <td>3.599</td>\n",
       "      <td>37.1</td>\n",
       "      <td>2.0</td>\n",
       "    </tr>\n",
       "    <tr>\n",
       "      <th>1071</th>\n",
       "      <td>Zimbabwe</td>\n",
       "      <td>2020</td>\n",
       "      <td>15,669,666</td>\n",
       "      <td>5,052,214</td>\n",
       "      <td>10,617,452</td>\n",
       "      <td>41</td>\n",
       "      <td>61.0</td>\n",
       "      <td>31.009</td>\n",
       "      <td>8.132</td>\n",
       "      <td>3.545</td>\n",
       "      <td>36.6</td>\n",
       "      <td>2.0</td>\n",
       "    </tr>\n",
       "    <tr>\n",
       "      <th>1072</th>\n",
       "      <td>Zimbabwe</td>\n",
       "      <td>2021</td>\n",
       "      <td>15,993,524</td>\n",
       "      <td>5,166,388</td>\n",
       "      <td>10,827,136</td>\n",
       "      <td>-</td>\n",
       "      <td>59.0</td>\n",
       "      <td>30.537</td>\n",
       "      <td>9.057</td>\n",
       "      <td>3.491</td>\n",
       "      <td>35.7</td>\n",
       "      <td>2.0</td>\n",
       "    </tr>\n",
       "  </tbody>\n",
       "</table>\n",
       "<p>1073 rows × 12 columns</p>\n",
       "</div>"
      ],
      "text/plain": [
       "          Country  Year Total Population Urban Population Rural Population  \\\n",
       "0     Afghanistan  2017                -                -                -   \n",
       "1     Afghanistan  2018       36,686,784        9,353,296       27,333,488   \n",
       "2     Afghanistan  2019       37,769,499        9,727,157       28,042,342   \n",
       "3     Afghanistan  2020       38,972,230       10,142,913       28,829,317   \n",
       "4     Afghanistan  2021       40,099,462       10,551,772       29,547,690   \n",
       "...           ...   ...              ...              ...              ...   \n",
       "1068     Zimbabwe  2017                -                -                -   \n",
       "1069     Zimbabwe  2018       15,052,184        4,848,158       10,204,026   \n",
       "1070     Zimbabwe  2019       15,354,608        4,945,719       10,408,889   \n",
       "1071     Zimbabwe  2020       15,669,666        5,052,214       10,617,452   \n",
       "1072     Zimbabwe  2021       15,993,524        5,166,388       10,827,136   \n",
       "\n",
       "     Population Density Life Expectancy  Birth Rate  Death Rate  \\\n",
       "0                    55            63.0      37.342       7.027   \n",
       "1                    56            63.0      36.927       6.981   \n",
       "2                    58            64.0      36.466       6.791   \n",
       "3                    60            63.0      36.051       7.113   \n",
       "4                     -            62.0      35.842       7.344   \n",
       "...                 ...             ...         ...         ...   \n",
       "1068                 38            61.0      32.516       8.266   \n",
       "1069                 39            61.0      32.074       7.972   \n",
       "1070                 40            61.0      31.518       8.043   \n",
       "1071                 41            61.0      31.009       8.132   \n",
       "1072                  -            59.0      30.537       9.057   \n",
       "\n",
       "     Fertility Rate Infant Mortality Rate Growth Rate  \n",
       "0             5.129                  49.4           -  \n",
       "1             5.002                  47.8         3.0  \n",
       "2              4.87                  46.3         3.0  \n",
       "3              4.75                  44.8         3.0  \n",
       "4             4.643                  43.4         3.0  \n",
       "...             ...                   ...         ...  \n",
       "1068          3.706                  39.5           -  \n",
       "1069          3.659                  38.0         2.0  \n",
       "1070          3.599                  37.1         2.0  \n",
       "1071          3.545                  36.6         2.0  \n",
       "1072          3.491                  35.7         2.0  \n",
       "\n",
       "[1073 rows x 12 columns]"
      ]
     },
     "execution_count": 977,
     "metadata": {},
     "output_type": "execute_result"
    }
   ],
   "source": [
    "import pandas as pd\n",
    "df = pd.read_csv(\"global_population_trends.csv\")\n",
    "df"
   ]
  },
  {
   "cell_type": "markdown",
   "metadata": {},
   "source": [
    "<h4>2.2.\t Считайте несколько первых записей таблицы (head())</h4>"
   ]
  },
  {
   "cell_type": "code",
   "execution_count": 978,
   "metadata": {},
   "outputs": [
    {
     "name": "stdout",
     "output_type": "stream",
     "text": [
      "Первые записи таблицы:\n",
      "       Country  Year Total Population Urban Population Rural Population  \\\n",
      "0  Afghanistan  2017                -                -                -   \n",
      "1  Afghanistan  2018       36,686,784        9,353,296       27,333,488   \n",
      "2  Afghanistan  2019       37,769,499        9,727,157       28,042,342   \n",
      "3  Afghanistan  2020       38,972,230       10,142,913       28,829,317   \n",
      "4  Afghanistan  2021       40,099,462       10,551,772       29,547,690   \n",
      "\n",
      "  Population Density Life Expectancy  Birth Rate  Death Rate Fertility Rate  \\\n",
      "0                 55            63.0      37.342       7.027          5.129   \n",
      "1                 56            63.0      36.927       6.981          5.002   \n",
      "2                 58            64.0      36.466       6.791           4.87   \n",
      "3                 60            63.0      36.051       7.113           4.75   \n",
      "4                  -            62.0      35.842       7.344          4.643   \n",
      "\n",
      "  Infant Mortality Rate Growth Rate  \n",
      "0                  49.4           -  \n",
      "1                  47.8         3.0  \n",
      "2                  46.3         3.0  \n",
      "3                  44.8         3.0  \n",
      "4                  43.4         3.0  \n"
     ]
    }
   ],
   "source": [
    "print(\"Первые записи таблицы:\")\n",
    "print(df.head())"
   ]
  },
  {
   "cell_type": "markdown",
   "metadata": {},
   "source": [
    "<h4>2.3.\t Определите размерность данного фрейма (shape())</h4>"
   ]
  },
  {
   "cell_type": "code",
   "execution_count": 979,
   "metadata": {},
   "outputs": [
    {
     "name": "stdout",
     "output_type": "stream",
     "text": [
      "\n",
      "Размерность данных (строки, столбцы):\n",
      "(1073, 12)\n"
     ]
    }
   ],
   "source": [
    "print(\"\\nРазмерность данных (строки, столбцы):\")\n",
    "print(df.shape)"
   ]
  },
  {
   "cell_type": "markdown",
   "metadata": {},
   "source": [
    "<h4>2.4 Выведите название заголовков столбцов фрейма (columns)</h4>"
   ]
  },
  {
   "cell_type": "code",
   "execution_count": 980,
   "metadata": {},
   "outputs": [
    {
     "name": "stdout",
     "output_type": "stream",
     "text": [
      "\n",
      "Заголовки столбцов:\n",
      "Index(['Country', 'Year', 'Total Population', 'Urban Population',\n",
      "       'Rural Population', 'Population Density', 'Life Expectancy',\n",
      "       'Birth Rate', 'Death Rate', 'Fertility Rate', 'Infant Mortality Rate',\n",
      "       'Growth Rate'],\n",
      "      dtype='object')\n"
     ]
    }
   ],
   "source": [
    "print(\"\\nЗаголовки столбцов:\")\n",
    "print(df.columns)"
   ]
  },
  {
   "cell_type": "markdown",
   "metadata": {},
   "source": [
    "<h4>2.5.\tПолучите описание всех переменных (полей) (info())</h4>"
   ]
  },
  {
   "cell_type": "code",
   "execution_count": 981,
   "metadata": {},
   "outputs": [
    {
     "name": "stdout",
     "output_type": "stream",
     "text": [
      "\n",
      "Описание переменных:\n",
      "<class 'pandas.core.frame.DataFrame'>\n",
      "RangeIndex: 1073 entries, 0 to 1072\n",
      "Data columns (total 12 columns):\n",
      " #   Column                 Non-Null Count  Dtype  \n",
      "---  ------                 --------------  -----  \n",
      " 0   Country                1073 non-null   object \n",
      " 1   Year                   1073 non-null   int64  \n",
      " 2   Total Population       1073 non-null   object \n",
      " 3   Urban Population       1073 non-null   object \n",
      " 4   Rural Population       1073 non-null   object \n",
      " 5   Population Density     1073 non-null   object \n",
      " 6   Life Expectancy        1073 non-null   object \n",
      " 7   Birth Rate             1073 non-null   float64\n",
      " 8   Death Rate             1073 non-null   float64\n",
      " 9   Fertility Rate         1073 non-null   object \n",
      " 10  Infant Mortality Rate  1073 non-null   object \n",
      " 11  Growth Rate            1073 non-null   object \n",
      "dtypes: float64(2), int64(1), object(9)\n",
      "memory usage: 100.7+ KB\n",
      "None\n"
     ]
    }
   ],
   "source": [
    "print(\"\\nОписание переменных:\")\n",
    "print(df.info())"
   ]
  },
  {
   "cell_type": "markdown",
   "metadata": {},
   "source": [
    "<h4>2.6.\t Удалите строки, не содержащие значения в столбце «Total Population» - “-” </h4>"
   ]
  },
  {
   "cell_type": "code",
   "execution_count": 982,
   "metadata": {},
   "outputs": [
    {
     "name": "stdout",
     "output_type": "stream",
     "text": [
      "\n",
      "Первые записи после удаления строк с пропущенными значениями:\n",
      "       Country  Year Total Population Urban Population Rural Population  \\\n",
      "1  Afghanistan  2018       36,686,784        9,353,296       27,333,488   \n",
      "2  Afghanistan  2019       37,769,499        9,727,157       28,042,342   \n",
      "3  Afghanistan  2020       38,972,230       10,142,913       28,829,317   \n",
      "4  Afghanistan  2021       40,099,462       10,551,772       29,547,690   \n",
      "6      Albania  2018        2,866,376        1,728,969        1,137,407   \n",
      "\n",
      "  Population Density Life Expectancy  Birth Rate  Death Rate Fertility Rate  \\\n",
      "1                 56            63.0      36.927       6.981          5.002   \n",
      "2                 58            64.0      36.466       6.791           4.87   \n",
      "3                 60            63.0      36.051       7.113           4.75   \n",
      "4                  -            62.0      35.842       7.344          4.643   \n",
      "6                105            79.0      10.517       8.308           1.44   \n",
      "\n",
      "  Infant Mortality Rate Growth Rate  \n",
      "1                  47.8         3.0  \n",
      "2                  46.3         3.0  \n",
      "3                  44.8         3.0  \n",
      "4                  43.4         3.0  \n",
      "6                   8.3         0.0  \n"
     ]
    }
   ],
   "source": [
    "df = df[df[\"Total Population\"] != \"-\"]\n",
    "print(\"\\nПервые записи после удаления строк с пропущенными значениями:\")\n",
    "print(df.head())"
   ]
  },
  {
   "cell_type": "markdown",
   "metadata": {},
   "source": [
    "<h4>2.7. Получение описательной статистики по переменным:</h4>"
   ]
  },
  {
   "cell_type": "code",
   "execution_count": 983,
   "metadata": {},
   "outputs": [
    {
     "name": "stdout",
     "output_type": "stream",
     "text": [
      "Максимальные значения по столбцам:\n",
      "Country                    Zimbabwe\n",
      "Year                           2021\n",
      "Total Population             99,258\n",
      "Urban Population         99,876,265\n",
      "Rural Population            998,397\n",
      "Population Density               99\n",
      "Life Expectancy                85.0\n",
      "Birth Rate                   46.127\n",
      "Death Rate                     21.7\n",
      "Fertility Rate                7.023\n",
      "Infant Mortality Rate           9.9\n",
      "Growth Rate                     5.0\n",
      "dtype: object\n",
      "\n",
      "Минимальные значения по столбцам:\n",
      "Country                  Afghanistan\n",
      "Year                            2018\n",
      "Total Population           1,057,198\n",
      "Urban Population                   -\n",
      "Rural Population                   -\n",
      "Population Density                 -\n",
      "Life Expectancy                    -\n",
      "Birth Rate                       0.0\n",
      "Death Rate                       0.0\n",
      "Fertility Rate                     -\n",
      "Infant Mortality Rate              -\n",
      "Growth Rate                     -1.0\n",
      "dtype: object\n",
      "\n",
      "Описательная статистика:\n",
      "              Year  Birth Rate  Death Rate\n",
      "count   864.000000  864.000000  864.000000\n",
      "mean   2019.500000   18.548384    7.889123\n",
      "std       1.118682    9.887518    3.041385\n",
      "min    2018.000000    0.000000    0.000000\n",
      "25%    2018.750000   10.500000    6.116500\n",
      "50%    2019.500000   15.628500    7.453500\n",
      "75%    2020.250000   25.565000    9.385000\n",
      "max    2021.000000   46.127000   21.700000\n"
     ]
    }
   ],
   "source": [
    "max_values = df.max()\n",
    "print(\"Максимальные значения по столбцам:\")\n",
    "print(max_values)\n",
    "\n",
    "min_values = df.min()\n",
    "print(\"\\nМинимальные значения по столбцам:\")\n",
    "print(min_values)\n",
    "\n",
    "print(\"\\nОписательная статистика:\")\n",
    "print(df.describe())"
   ]
  },
  {
   "cell_type": "markdown",
   "metadata": {},
   "source": [
    "<h4>2.8. Сортировка данных по нескольким критериям:</h4>"
   ]
  },
  {
   "cell_type": "code",
   "execution_count": 984,
   "metadata": {},
   "outputs": [
    {
     "name": "stderr",
     "output_type": "stream",
     "text": [
      "C:\\Users\\ACER\\AppData\\Local\\Temp\\ipykernel_7116\\370242326.py:2: SettingWithCopyWarning: \n",
      "A value is trying to be set on a copy of a slice from a DataFrame.\n",
      "Try using .loc[row_indexer,col_indexer] = value instead\n",
      "\n",
      "See the caveats in the documentation: https://pandas.pydata.org/pandas-docs/stable/user_guide/indexing.html#returning-a-view-versus-a-copy\n",
      "  df[\"Total Population\"] = df[\"Total Population\"].str.replace(\",\", \"\").astype(float)\n"
     ]
    },
    {
     "data": {
      "text/html": [
       "<div>\n",
       "<style scoped>\n",
       "    .dataframe tbody tr th:only-of-type {\n",
       "        vertical-align: middle;\n",
       "    }\n",
       "\n",
       "    .dataframe tbody tr th {\n",
       "        vertical-align: top;\n",
       "    }\n",
       "\n",
       "    .dataframe thead th {\n",
       "        text-align: right;\n",
       "    }\n",
       "</style>\n",
       "<table border=\"1\" class=\"dataframe\">\n",
       "  <thead>\n",
       "    <tr style=\"text-align: right;\">\n",
       "      <th></th>\n",
       "      <th>Country</th>\n",
       "      <th>Year</th>\n",
       "      <th>Total Population</th>\n",
       "      <th>Urban Population</th>\n",
       "      <th>Rural Population</th>\n",
       "      <th>Population Density</th>\n",
       "      <th>Life Expectancy</th>\n",
       "      <th>Birth Rate</th>\n",
       "      <th>Death Rate</th>\n",
       "      <th>Fertility Rate</th>\n",
       "      <th>Infant Mortality Rate</th>\n",
       "      <th>Growth Rate</th>\n",
       "    </tr>\n",
       "  </thead>\n",
       "  <tbody>\n",
       "    <tr>\n",
       "      <th>202</th>\n",
       "      <td>China</td>\n",
       "      <td>2018</td>\n",
       "      <td>1.402760e+09</td>\n",
       "      <td>829,760,595</td>\n",
       "      <td>572,999,405</td>\n",
       "      <td>149</td>\n",
       "      <td>78.0</td>\n",
       "      <td>10.860</td>\n",
       "      <td>7.080</td>\n",
       "      <td>1.554</td>\n",
       "      <td>6.4</td>\n",
       "      <td>0.0</td>\n",
       "    </tr>\n",
       "    <tr>\n",
       "      <th>432</th>\n",
       "      <td>India</td>\n",
       "      <td>2018</td>\n",
       "      <td>1.369003e+09</td>\n",
       "      <td>465,871,825</td>\n",
       "      <td>903,131,481</td>\n",
       "      <td>460</td>\n",
       "      <td>71.0</td>\n",
       "      <td>17.651</td>\n",
       "      <td>6.644</td>\n",
       "      <td>2.177</td>\n",
       "      <td>29.8</td>\n",
       "      <td>1.0</td>\n",
       "    </tr>\n",
       "    <tr>\n",
       "      <th>1019</th>\n",
       "      <td>United States</td>\n",
       "      <td>2018</td>\n",
       "      <td>3.268382e+08</td>\n",
       "      <td>268,844,029</td>\n",
       "      <td>57,994,170</td>\n",
       "      <td>36</td>\n",
       "      <td>79.0</td>\n",
       "      <td>11.600</td>\n",
       "      <td>8.678</td>\n",
       "      <td>1.73</td>\n",
       "      <td>5.6</td>\n",
       "      <td>1.0</td>\n",
       "    </tr>\n",
       "    <tr>\n",
       "      <th>437</th>\n",
       "      <td>Indonesia</td>\n",
       "      <td>2018</td>\n",
       "      <td>2.670668e+08</td>\n",
       "      <td>147,754,731</td>\n",
       "      <td>119,312,112</td>\n",
       "      <td>142</td>\n",
       "      <td>70.0</td>\n",
       "      <td>17.179</td>\n",
       "      <td>7.496</td>\n",
       "      <td>2.234</td>\n",
       "      <td>20.8</td>\n",
       "      <td>1.0</td>\n",
       "    </tr>\n",
       "    <tr>\n",
       "      <th>725</th>\n",
       "      <td>Pakistan</td>\n",
       "      <td>2018</td>\n",
       "      <td>2.197315e+08</td>\n",
       "      <td>80,566,744</td>\n",
       "      <td>139,164,735</td>\n",
       "      <td>285</td>\n",
       "      <td>66.0</td>\n",
       "      <td>28.594</td>\n",
       "      <td>6.843</td>\n",
       "      <td>3.685</td>\n",
       "      <td>57.4</td>\n",
       "      <td>2.0</td>\n",
       "    </tr>\n",
       "    <tr>\n",
       "      <th>...</th>\n",
       "      <td>...</td>\n",
       "      <td>...</td>\n",
       "      <td>...</td>\n",
       "      <td>...</td>\n",
       "      <td>...</td>\n",
       "      <td>...</td>\n",
       "      <td>...</td>\n",
       "      <td>...</td>\n",
       "      <td>...</td>\n",
       "      <td>...</td>\n",
       "      <td>...</td>\n",
       "      <td>...</td>\n",
       "    </tr>\n",
       "    <tr>\n",
       "      <th>907</th>\n",
       "      <td>St. Martin (French Part)</td>\n",
       "      <td>2021</td>\n",
       "      <td>3.194800e+04</td>\n",
       "      <td>-</td>\n",
       "      <td>-</td>\n",
       "      <td>-</td>\n",
       "      <td>80.0</td>\n",
       "      <td>15.053</td>\n",
       "      <td>4.911</td>\n",
       "      <td>2.415</td>\n",
       "      <td>-</td>\n",
       "      <td>-2.0</td>\n",
       "    </tr>\n",
       "    <tr>\n",
       "      <th>137</th>\n",
       "      <td>British Virgin Islands</td>\n",
       "      <td>2021</td>\n",
       "      <td>3.112200e+04</td>\n",
       "      <td>15,225</td>\n",
       "      <td>15,897</td>\n",
       "      <td>-</td>\n",
       "      <td>74.0</td>\n",
       "      <td>7.634</td>\n",
       "      <td>7.613</td>\n",
       "      <td>1.005</td>\n",
       "      <td>9.9</td>\n",
       "      <td>1.0</td>\n",
       "    </tr>\n",
       "    <tr>\n",
       "      <th>733</th>\n",
       "      <td>Palau</td>\n",
       "      <td>2021</td>\n",
       "      <td>1.802400e+04</td>\n",
       "      <td>14,686</td>\n",
       "      <td>3,338</td>\n",
       "      <td>-</td>\n",
       "      <td>-</td>\n",
       "      <td>13.400</td>\n",
       "      <td>10.200</td>\n",
       "      <td>0.0</td>\n",
       "      <td>15.1</td>\n",
       "      <td>0.0</td>\n",
       "    </tr>\n",
       "    <tr>\n",
       "      <th>664</th>\n",
       "      <td>Nauru</td>\n",
       "      <td>2021</td>\n",
       "      <td>1.251100e+04</td>\n",
       "      <td>12,511</td>\n",
       "      <td>-</td>\n",
       "      <td>-</td>\n",
       "      <td>64.0</td>\n",
       "      <td>27.560</td>\n",
       "      <td>6.633</td>\n",
       "      <td>3.519</td>\n",
       "      <td>23.2</td>\n",
       "      <td>2.0</td>\n",
       "    </tr>\n",
       "    <tr>\n",
       "      <th>997</th>\n",
       "      <td>Tuvalu</td>\n",
       "      <td>2021</td>\n",
       "      <td>1.120400e+04</td>\n",
       "      <td>7,259</td>\n",
       "      <td>3,945</td>\n",
       "      <td>-</td>\n",
       "      <td>65.0</td>\n",
       "      <td>23.484</td>\n",
       "      <td>10.159</td>\n",
       "      <td>3.163</td>\n",
       "      <td>18.1</td>\n",
       "      <td>1.0</td>\n",
       "    </tr>\n",
       "  </tbody>\n",
       "</table>\n",
       "<p>864 rows × 12 columns</p>\n",
       "</div>"
      ],
      "text/plain": [
       "                       Country  Year  Total Population Urban Population  \\\n",
       "202                      China  2018      1.402760e+09      829,760,595   \n",
       "432                      India  2018      1.369003e+09      465,871,825   \n",
       "1019             United States  2018      3.268382e+08      268,844,029   \n",
       "437                  Indonesia  2018      2.670668e+08      147,754,731   \n",
       "725                   Pakistan  2018      2.197315e+08       80,566,744   \n",
       "...                        ...   ...               ...              ...   \n",
       "907   St. Martin (French Part)  2021      3.194800e+04                -   \n",
       "137     British Virgin Islands  2021      3.112200e+04           15,225   \n",
       "733                      Palau  2021      1.802400e+04           14,686   \n",
       "664                      Nauru  2021      1.251100e+04           12,511   \n",
       "997                     Tuvalu  2021      1.120400e+04            7,259   \n",
       "\n",
       "     Rural Population Population Density Life Expectancy  Birth Rate  \\\n",
       "202       572,999,405                149            78.0      10.860   \n",
       "432       903,131,481                460            71.0      17.651   \n",
       "1019       57,994,170                 36            79.0      11.600   \n",
       "437       119,312,112                142            70.0      17.179   \n",
       "725       139,164,735                285            66.0      28.594   \n",
       "...               ...                ...             ...         ...   \n",
       "907                 -                  -            80.0      15.053   \n",
       "137            15,897                  -            74.0       7.634   \n",
       "733             3,338                  -               -      13.400   \n",
       "664                 -                  -            64.0      27.560   \n",
       "997             3,945                  -            65.0      23.484   \n",
       "\n",
       "      Death Rate Fertility Rate Infant Mortality Rate Growth Rate  \n",
       "202        7.080          1.554                   6.4         0.0  \n",
       "432        6.644          2.177                  29.8         1.0  \n",
       "1019       8.678           1.73                   5.6         1.0  \n",
       "437        7.496          2.234                  20.8         1.0  \n",
       "725        6.843          3.685                  57.4         2.0  \n",
       "...          ...            ...                   ...         ...  \n",
       "907        4.911          2.415                     -        -2.0  \n",
       "137        7.613          1.005                   9.9         1.0  \n",
       "733       10.200            0.0                  15.1         0.0  \n",
       "664        6.633          3.519                  23.2         2.0  \n",
       "997       10.159          3.163                  18.1         1.0  \n",
       "\n",
       "[864 rows x 12 columns]"
      ]
     },
     "execution_count": 984,
     "metadata": {},
     "output_type": "execute_result"
    }
   ],
   "source": [
    "df.loc[df[\"Total Population\"] == \"-\", \"Total Population\"] = \"0\"\n",
    "df[\"Total Population\"] = df[\"Total Population\"].str.replace(\",\", \"\").astype(float)\n",
    "df = df.sort_values(by=['Year', 'Total Population'], ascending=[True, False])\n",
    "df\n"
   ]
  },
  {
   "cell_type": "markdown",
   "metadata": {},
   "source": [
    "<h4>2.9. Вывод названия страны с максимальной численностью населения:</h4>"
   ]
  },
  {
   "cell_type": "code",
   "execution_count": 985,
   "metadata": {},
   "outputs": [
    {
     "name": "stdout",
     "output_type": "stream",
     "text": [
      "\n",
      "Страна с максимальной численностью населения: China\n"
     ]
    }
   ],
   "source": [
    "country_with_max_population = df[df['Total Population'] == df['Total Population'].max()]['Country'].values[0]\n",
    "print(f\"\\nСтрана с максимальной численностью населения: {country_with_max_population}\")"
   ]
  },
  {
   "cell_type": "markdown",
   "metadata": {},
   "source": [
    "<h4>2.10. Вывод названия страны с минимальной численностью населения:</h4>"
   ]
  },
  {
   "cell_type": "code",
   "execution_count": 986,
   "metadata": {},
   "outputs": [
    {
     "name": "stdout",
     "output_type": "stream",
     "text": [
      "Страна с минимальной численностью населения: Tuvalu\n"
     ]
    }
   ],
   "source": [
    "country_with_min_population = df[df['Total Population'] == df['Total Population'].min()]['Country'].values[0]\n",
    "print(f\"Страна с минимальной численностью населения: {country_with_min_population}\")"
   ]
  },
  {
   "cell_type": "markdown",
   "metadata": {},
   "source": [
    "<h4>2.11. Экспорт фрейма в MS Excel:</h4>"
   ]
  },
  {
   "cell_type": "code",
   "execution_count": 987,
   "metadata": {},
   "outputs": [
    {
     "name": "stdout",
     "output_type": "stream",
     "text": [
      "\n",
      "Данные экспортированы в population_data.xlsx\n"
     ]
    }
   ],
   "source": [
    "df.to_excel(\"population_data.xlsx\", index=False)\n",
    "print(\"\\nДанные экспортированы в population_data.xlsx\")"
   ]
  }
 ],
 "metadata": {
  "kernelspec": {
   "display_name": "Python 3",
   "language": "python",
   "name": "python3"
  },
  "language_info": {
   "codemirror_mode": {
    "name": "ipython",
    "version": 3
   },
   "file_extension": ".py",
   "mimetype": "text/x-python",
   "name": "python",
   "nbconvert_exporter": "python",
   "pygments_lexer": "ipython3",
   "version": "3.11.5"
  },
  "orig_nbformat": 4
 },
 "nbformat": 4,
 "nbformat_minor": 2
}
